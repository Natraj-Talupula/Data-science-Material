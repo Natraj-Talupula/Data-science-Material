{
 "cells": [
  {
   "cell_type": "markdown",
   "metadata": {},
   "source": [
    "<img src=\"https://shwetkm.github.io/upxlogo.png\"></img>\n",
    "\n",
    "# Python Basics - Data Science Foundation\n",
    "\n",
    "**SET THE WORKING DIRECTORY SO THAT WE DO NOT HAVE TO THINK ABOUT PATH PROBLEMS**\n",
    "\n",
    "Please ensure all your folder names <font color='red'><b>do not have a space & use forward slash (/)</b></font>"
   ]
  },
  {
   "cell_type": "code",
   "execution_count": null,
   "metadata": {},
   "outputs": [],
   "source": [
    "print (\"Hello World\")"
   ]
  },
  {
   "cell_type": "code",
   "execution_count": null,
   "metadata": {},
   "outputs": [],
   "source": [
    "your_local_path=\"C:/Users/tejks/Desktop/ML/practice/\""
   ]
  },
  {
   "cell_type": "markdown",
   "metadata": {},
   "source": []
  },
  {
   "cell_type": "markdown",
   "metadata": {},
   "source": [
    "# **IPython notebook**\n",
    "\n",
    "IPython is a software package in Python that serves as a research notebook. IPython has a seamless interface using which you can write notes as well as perform data analysis in the same file. The data analysis part allows you to write the code and run it from within the notebook itself. The results also are displayed in the notebook. Among other things, IPython provides:\n",
    "\n",
    "1. An interactive shell\n",
    "2. Notebook that is browser based. The notebook supports text, code, expressions, graphs and interactive data visualization, embed images and videos, and also links to web pages on the Internet. \n",
    "3. Tools for parallel computing.\n",
    "4. Import external code and run it.\n",
    "5. Export the notebook in a number of formats.\n",
    "\n",
    "**Creating an IPython notebook**\n",
    "\n",
    "In order to create an IPython notebook, choose File -> New -> IPython notebook. \n",
    "\n",
    "Hitting Alt+Enter creates a new cell. A cell is nothing but a placeholder where you can write some text or execute code. \n",
    "To run press Shift+Enter"
   ]
  },
  {
   "cell_type": "markdown",
   "metadata": {},
   "source": [
    "In order to find help on some concept, make use of ? If you want to find a function or make use of wildcard entry, make use of followed by ? A quickref command gives you a quick reference to the most commonly used commands in Python."
   ]
  },
  {
   "cell_type": "code",
   "execution_count": null,
   "metadata": {},
   "outputs": [],
   "source": [
    "import sys\n",
    "print (sys.version)\n",
    "print (sys.version_info)"
   ]
  },
  {
   "cell_type": "code",
   "execution_count": null,
   "metadata": {},
   "outputs": [],
   "source": [
    "Print (\"Hello World\")"
   ]
  },
  {
   "cell_type": "markdown",
   "metadata": {},
   "source": [
    "**Syntax Formalities**\n",
    "\n",
    "+ Python is <b>case sensitive</b>\n",
    "+ Python makes use of <b>whitespace</b> for code structuring and marking logical breaks in the code (In contrast to other programming languages that use braces)\n",
    "+ End of line marks end of a statement, so <b>does not require a semicolon at end of each statement</b>\n",
    "+ Whitespace at the beginning of the line is important. This is called <b>indentation</b>.\n",
    "+ Leading whitespace (spaces and tabs) at the beginning of the logical line is used to determine the <b>indentation level</b> of the logical line.\n",
    "+ Statements which go together must have the same indentation. Each such set of statements is called a <b>block</b>."
   ]
  },
  {
   "cell_type": "code",
   "execution_count": null,
   "metadata": {
    "scrolled": true
   },
   "outputs": [],
   "source": [
    "i = 4\n",
    "if i <= 5:\n",
    " Print ('Value is ', i) # Error! Notice a single space at the start of the line\n",
    "  if i!=4:\n",
    "        print ('I repeat, the value is ', i)\n",
    "print (\"Sai\")"
   ]
  },
  {
   "cell_type": "markdown",
   "metadata": {},
   "source": [
    "**Comments** \n",
    "\n",
    "One line comments are denoted by <font color='red'><b>#</b></font> at the start of line<br/>\n",
    "Multiple line/block comments start with <font color='red'><b>'''</b></font> and end with <font color='red'><b>'''</b></font>"
   ]
  },
  {
   "cell_type": "code",
   "execution_count": null,
   "metadata": {},
   "outputs": [],
   "source": [
    "# this is a single line comment\n",
    "# print(\"I will not be printed, I am a single line comment\")\n",
    "print (\"Sai\");\n",
    "#print something"
   ]
  },
  {
   "cell_type": "code",
   "execution_count": null,
   "metadata": {},
   "outputs": [],
   "source": [
    "# this is a single line comment\n",
    "# print(\"I will not be printed, I am a single line comment\")\n",
    "print (\"Sai\")\n",
    "'''This is a block comment 3 single quotes\n",
    "We are in a comment\n",
    "We are still in a comment''';\n",
    "\n",
    "\n",
    "\n",
    "\n",
    "\n",
    "\n",
    "\n",
    "\n"
   ]
  },
  {
   "cell_type": "code",
   "execution_count": null,
   "metadata": {},
   "outputs": [],
   "source": [
    "#Example of indentation\n",
    "for x in alist:\n",
    "    if x < anumber:\n",
    "            print(x)\n",
    "    else:\n",
    "        print(-x)\n",
    "        \n",
    "#is similar to                   <------------------ Let us compare with other language\n",
    "\n",
    "for x in alist \n",
    "{\n",
    "    if x < anumber\n",
    "    {\n",
    "        print(x)\n",
    "    }\n",
    "    else\n",
    "    {\n",
    "        print(-x)\n",
    "    }\n",
    "}\n",
    "\n"
   ]
  },
  {
   "cell_type": "markdown",
   "metadata": {},
   "source": [
    "**Variables and Data Structures**\n",
    "\n",
    "+ Built-in data types:<br/>\n",
    "<b>Integer, Floating point, String, Boolean Values, Date and Time</b>\n",
    "\n",
    "+ Additional data structures:<br/>\n",
    "<b>Tuples, Lists, Dictionary</b>\n",
    "\n",
    "+ A variable is a name that refers to a value.\n",
    "+ No need to specify <b>type</b> to a variable; Python automatically assigns.\n"
   ]
  },
  {
   "cell_type": "code",
   "execution_count": null,
   "metadata": {},
   "outputs": [],
   "source": [
    "x = 5.5"
   ]
  },
  {
   "cell_type": "code",
   "execution_count": null,
   "metadata": {
    "scrolled": true
   },
   "outputs": [],
   "source": [
    "counter = 100          # An integer assignment\n",
    "miles   = 1000.0       # A floating point\n",
    "name    = \"Ajay\"       # A string\n",
    "\n",
    "print (counter)\n",
    "print (miles)\n",
    "print (name)\n",
    "\n",
    "\n",
    "\n",
    "a = 1111111111110\n",
    "b = 2.7\n",
    "c = \"3.5\"\n",
    "d = \"Sai\"\n",
    "e = str(a)\n",
    "print(d+e);  # Sum of values\n",
    "print ([b,e])\n",
    "#print(b  + e)  # Concatenating Strings\n",
    "\n"
   ]
  },
  {
   "cell_type": "markdown",
   "metadata": {},
   "source": [
    "**Strings**\n",
    "\n",
    "+ Built-in <b>string class</b> named <b>\"str\"</b> with many handy features\n",
    "+ In addition to numerical data processing, Python has very strong string processing capabilities. \n",
    "+ <b>Subsets</b> of strings can be taken using the <b>slice operator ( [ ] and [ : ] )</b> with indexes starting at 0 in the beginning of the string and working their way from -1 at the end.\n",
    "+ The plus ( + ) sign is the string concatenation operator and the asterisk ( * ) is the repetition operator.\n",
    "+ Strings in Python are <b>immutable</b>. Unlike other datasets such as lists, you cannot manipulate individual string values. In order to do so, you have to take subsets of strings and form a new string. \n",
    "+ A string can be converted to a numerical type and vice versa (wherever applicable). Many a times, raw data, although numeric, is coded in string format. This feature provides a clean way to make sure all of the data is in numeric form.\n",
    "+ Strings are sequence of characters and can be <b>tokenized</b>.\n",
    "+ Strings and numbers can also be <b>formatted</b>.\n",
    "\n"
   ]
  },
  {
   "cell_type": "code",
   "execution_count": null,
   "metadata": {
    "scrolled": true
   },
   "outputs": [],
   "source": [
    "strr = 'Hello World'\n",
    "print ([strr])            # prints complete string\n",
    "print (strr[0])         # prints first character of string\n",
    "print (strr[2:7])       # prints characters starting from 3rd to 6th. Exclude last element. 'W' is excluded.\n",
    "print (strr[::-1])        # prints string starting from 3rd character\n",
    "print (strr*2)          # prints string two times\n",
    "#print (strr[-2:-1])\n",
    "print (\"*\".join([strr]*9))\n",
    "\n",
    "print (strr + ' ' + strr + ' ' + strr + ' ' + strr + ' ')\n",
    "#print (strr + \"TEST\")   # prints concatenated string"
   ]
  },
  {
   "cell_type": "code",
   "execution_count": null,
   "metadata": {},
   "outputs": [],
   "source": [
    "strr =\"hello\"\n",
    "#print(strr[-4])\n",
    "c=20\n",
    "c=40\n",
    "print (c)\n",
    "\n",
    "\n",
    "a = 'this is a string'\n",
    "#print (a+a)\n",
    "#a[0] = 'i'\n",
    "#print (a+a)\n",
    "\n",
    "a=a.replace('t','i')\n",
    "#print (a)\n",
    "#print (a+a)\n",
    "#print (b)\n",
    "\n",
    "\n",
    "c = list(a)\n",
    "print (c)\n",
    "c[0] = 'hym'\n",
    "print (c)\n",
    "\n",
    "print (''.join(c))\n",
    "print (''.join(c))\n"
   ]
  },
  {
   "cell_type": "code",
   "execution_count": null,
   "metadata": {},
   "outputs": [],
   "source": [
    "a='sai'\n",
    "len(a) # Concatenating String & Integer - Error"
   ]
  },
  {
   "cell_type": "code",
   "execution_count": null,
   "metadata": {},
   "outputs": [],
   "source": [
    "a + str(len(a)) # Convert to String so that concatenation works"
   ]
  },
  {
   "cell_type": "code",
   "execution_count": null,
   "metadata": {},
   "outputs": [],
   "source": []
  },
  {
   "cell_type": "code",
   "execution_count": null,
   "metadata": {},
   "outputs": [],
   "source": [
    "form = '%3.2f %s is $%d'            # Let us visualize the formatting '%.2f %s is $%d' is like 'Float String Integer'\n",
    "print (form %(36.855, '40', 1))\n",
    "print (form %(64,'Rupees', 1))\n",
    "#form %(340,'Nigerian Nairas',1)\n",
    "#print ('sai')"
   ]
  },
  {
   "cell_type": "code",
   "execution_count": null,
   "metadata": {},
   "outputs": [],
   "source": [
    "school = 'ISB'\n",
    "print('s' in school)\n",
    "print('S' in school)"
   ]
  },
  {
   "cell_type": "code",
   "execution_count": null,
   "metadata": {},
   "outputs": [],
   "source": [
    "#Consider two strings x and y\n",
    "x = 'Confusing'\n",
    "y = 'Strings'\n",
    "#Swap first three characters of each string and join them by an _\n",
    "strr1 = str(x[:3])\n",
    "strr2 = str(y[:3])\n",
    "print (strr2 + x[3:] + \"_\" + strr1 + y[3:])"
   ]
  },
  {
   "cell_type": "markdown",
   "metadata": {},
   "source": [
    "**Datetime**\n",
    "\n",
    "Python has a <b>built-in datetime module</b> for working with dates and times.\n",
    "One can create strings from date objects and vice versa. \n",
    "\n",
    "\n",
    "Python offers very powerful and flexible datetime capabilities that are capable of operating at a scale of time measured in nano-seconds. "
   ]
  },
  {
   "cell_type": "code",
   "execution_count": null,
   "metadata": {},
   "outputs": [],
   "source": [
    "import datetime\n",
    "help(datetime.datetime.strptime)"
   ]
  },
  {
   "cell_type": "code",
   "execution_count": null,
   "metadata": {},
   "outputs": [],
   "source": [
    "#import datetime\n",
    "from datetime import datetime, date, time\n",
    "help(datetime.strptime)                                        # Help for a function\n",
    "date1 = datetime(2014, 7, 16, 14, 45, 5)\n",
    "print(date1.day)\n",
    "print(datetime.strptime('201405161343','%Y%m%d%H%M'))      # Parses a string representing a time according to a format\n",
    "print (date1.strftime('We are in %d, %M %y' ))                  #strftime() converts a time input into a string output. .\n",
    "date1 = datetime(2014, 5, 16)\n",
    "date2 = datetime(2015, 5, 19)\n",
    "datediff = date2 - date1\n",
    "print(datediff)\n",
    "datetime.now()\n"
   ]
  },
  {
   "cell_type": "markdown",
   "metadata": {},
   "source": [
    "**Lists**\n",
    "\n",
    "+ Lists, along with dictionary, are perhaps most important data types.\n",
    "+ A list contains items separated by commas and enclosed within square brackets ([]).\n",
    "+ All the items belonging to a list can be of <b>different data type</b>.\n",
    "+ Lists are similar to arrays in C language.\n",
    "+ The <b>plus ( + )</b> sign is the list concatenation operator, and the <b>asterisk ( * )</b> is the repetition operator.\n"
   ]
  },
  {
   "cell_type": "code",
   "execution_count": null,
   "metadata": {},
   "outputs": [],
   "source": [
    "list_ = [ 'abcd', 786 , 2.23, 'ISB', 70.2 ]\n",
    "\n",
    "tinylist = [123, 'ISB']\n",
    "\n",
    "print (list_)            # Prints complete list\n",
    "print (list_[0])         # Prints first element of the list\n",
    "print (list_[1:3])       # Prints elements starting from 2nd till 3rd \n",
    "print (list_[2:])        # Prints elements starting from 3rd element\n",
    "print (tinylist * 2)     # Prints list two times\n",
    "print (list_ + tinylist) # Prints concatenated lists\n",
    "print (len(list_))\n",
    "str2 = list(\"This is Python\")\n",
    "str2"
   ]
  },
  {
   "cell_type": "code",
   "execution_count": null,
   "metadata": {
    "scrolled": true
   },
   "outputs": [],
   "source": [
    "list_ = ['Ajay', 'Vijay', 'Ramesh','Rijay']\n",
    "#list_.append(['Bijay','Sujay'])\n",
    "#list_.append(['Sujay','Bijay'])         \n",
    "list_.insert(0, 'NewGuy')       \n",
    "list_.extend(['Bijay']) \n",
    "#print (list_)  \n",
    "print (list_.index('Vijay')) \n",
    "list_.remove(['Vijay','Ajay'])                 # Remove by Name\n",
    "#print (list_)\n",
    "#list_.pop(2,3)                         # Remove by location - Ajay is gone\n",
    "#print (list_)\n",
    "#list_.clear()\n",
    "print (list_)\n"
   ]
  },
  {
   "cell_type": "code",
   "execution_count": null,
   "metadata": {},
   "outputs": [],
   "source": [
    "# Lets us see how to create formatted outputs\n",
    "strin = \"this  is python\"\n",
    "strlist = list(strin)\n",
    "#print (strlist.sort())\n",
    "#print (strlist)\n",
    "#(strlist.sort(reverse=True))\n",
    "sai = sorted(strlist)\n",
    "charan = strlist.sort()\n",
    "#print(sorted(strlist))\n",
    "print (strlist)\n",
    "print(sai)\n",
    "print(charan)\n",
    "#print (string)\n",
    "print (strin.sort())"
   ]
  },
  {
   "cell_type": "markdown",
   "metadata": {},
   "source": [
    "**Dictionary**\n",
    "\n",
    "+ One of the most important built-in data structures.\n",
    "+ Python's dictionaries are kind of <b>hash tables</b>.\n",
    "+ They work like associative arrays and consist of <font color='red'><b>key-value pairs</b></font>. \n",
    "+ A dictionary key can be almost any Python type, but are usually numbers or strings. \n",
    "+ Values, on the other hand, can be any arbitrary Python object.\n",
    "+ Dictionaries are enclosed by <b>curly braces ( { } )</b> and values can be assigned and accessed using <b>square braces ( [] )</b>.\n"
   ]
  },
  {
   "cell_type": "code",
   "execution_count": null,
   "metadata": {},
   "outputs": [],
   "source": [
    "dic = {}\n",
    "dic['one'] = \"This is one\"\n",
    "dic[2]     = \"This is two\"\n",
    "#dic[1]     = \"This is the number one\"\n",
    "#dic[3] = \"This is number 3\"\n",
    "dic['two'] = \"This is the string two\"\n",
    "dic[1] = \"Sai\"\n",
    "dic['three'] = \"This is the three\"\n",
    "tinydict = {'name': ['ibs','isb'], 'code':6734, 'dept': 'sales','dept':'marketing'}\n",
    "\n",
    "#print (len(dic))\n",
    "print (dic[2])       # Prints value for 'one' key\n",
    "\n",
    "#print (dic[2])           # Prints value for 2 key\n",
    "print (tinydict)          # Prints complete dictionary\n",
    "print (dic.keys())   # Prints all the keys\n",
    "print (tinydict.values()) # Prints all the values\n",
    "print (sorted(tinydict.keys()))\n",
    "#print (dict)\n",
    "    "
   ]
  },
  {
   "cell_type": "markdown",
   "metadata": {},
   "source": [
    "** Lets see what is a Tuple? **<br/>\n",
    "A tuple is a sequence of immutable Python objects"
   ]
  },
  {
   "cell_type": "code",
   "execution_count": 68,
   "metadata": {},
   "outputs": [
    {
     "name": "stdout",
     "output_type": "stream",
     "text": [
      "['python', {'sai': 'charan'}, 3]\n"
     ]
    }
   ],
   "source": [
    "b=[1,{'sai':'charan'},3]\n",
    "b[0]='python'\n",
    "print (b)"
   ]
  },
  {
   "cell_type": "code",
   "execution_count": 69,
   "metadata": {},
   "outputs": [
    {
     "ename": "TypeError",
     "evalue": "'str' object does not support item assignment",
     "output_type": "error",
     "traceback": [
      "\u001b[1;31m---------------------------------------------------------------------------\u001b[0m",
      "\u001b[1;31mTypeError\u001b[0m                                 Traceback (most recent call last)",
      "\u001b[1;32m<ipython-input-69-778a79e1f0d7>\u001b[0m in \u001b[0;36m<module>\u001b[1;34m()\u001b[0m\n\u001b[0;32m      1\u001b[0m \u001b[0mb\u001b[0m \u001b[1;33m=\u001b[0m \u001b[1;34m\"sai charan\"\u001b[0m\u001b[1;33m\u001b[0m\u001b[0m\n\u001b[1;32m----> 2\u001b[1;33m \u001b[0mb\u001b[0m\u001b[1;33m[\u001b[0m\u001b[1;36m0\u001b[0m\u001b[1;33m]\u001b[0m \u001b[1;33m=\u001b[0m \u001b[1;34m'python'\u001b[0m\u001b[1;33m\u001b[0m\u001b[0m\n\u001b[0m\u001b[0;32m      3\u001b[0m \u001b[0mprint\u001b[0m \u001b[1;33m(\u001b[0m\u001b[0mb\u001b[0m\u001b[1;33m)\u001b[0m\u001b[1;33m\u001b[0m\u001b[0m\n",
      "\u001b[1;31mTypeError\u001b[0m: 'str' object does not support item assignment"
     ]
    }
   ],
   "source": [
    "b = \"sai charan\"\n",
    "b[0] = 'python'\n",
    "print (b)"
   ]
  },
  {
   "cell_type": "code",
   "execution_count": 71,
   "metadata": {},
   "outputs": [
    {
     "name": "stdout",
     "output_type": "stream",
     "text": [
      "charan\n"
     ]
    },
    {
     "ename": "TypeError",
     "evalue": "'tuple' object does not support item assignment",
     "output_type": "error",
     "traceback": [
      "\u001b[1;31m---------------------------------------------------------------------------\u001b[0m",
      "\u001b[1;31mTypeError\u001b[0m                                 Traceback (most recent call last)",
      "\u001b[1;32m<ipython-input-71-2ecf21f01f3d>\u001b[0m in \u001b[0;36m<module>\u001b[1;34m()\u001b[0m\n\u001b[0;32m      1\u001b[0m \u001b[0ma\u001b[0m\u001b[1;33m=\u001b[0m\u001b[1;33m(\u001b[0m\u001b[1;34m'charan'\u001b[0m\u001b[1;33m,\u001b[0m\u001b[1;36m56\u001b[0m\u001b[1;33m,\u001b[0m\u001b[1;36m75\u001b[0m\u001b[1;33m,\u001b[0m\u001b[1;34m'sai'\u001b[0m\u001b[1;33m)\u001b[0m\u001b[1;33m\u001b[0m\u001b[0m\n\u001b[0;32m      2\u001b[0m \u001b[0mprint\u001b[0m \u001b[1;33m(\u001b[0m\u001b[0ma\u001b[0m\u001b[1;33m[\u001b[0m\u001b[1;36m0\u001b[0m\u001b[1;33m]\u001b[0m\u001b[1;33m)\u001b[0m\u001b[1;33m\u001b[0m\u001b[0m\n\u001b[1;32m----> 3\u001b[1;33m \u001b[0ma\u001b[0m\u001b[1;33m[\u001b[0m\u001b[1;36m2\u001b[0m\u001b[1;33m]\u001b[0m\u001b[1;33m=\u001b[0m\u001b[1;36m87\u001b[0m\u001b[1;33m\u001b[0m\u001b[0m\n\u001b[0m",
      "\u001b[1;31mTypeError\u001b[0m: 'tuple' object does not support item assignment"
     ]
    }
   ],
   "source": [
    "a=('charan',56,75,'sai')\n",
    "print (a[0])\n",
    "a[2]=87"
   ]
  },
  {
   "cell_type": "code",
   "execution_count": 83,
   "metadata": {},
   "outputs": [
    {
     "name": "stdout",
     "output_type": "stream",
     "text": [
      "sai\n",
      "(1, 'charan', 3, ['sai', 34])\n",
      "2756632658712\n",
      "(1, 'charan', 3, ['sai', 34], 10)\n"
     ]
    },
    {
     "data": {
      "text/plain": [
       "2756668411576"
      ]
     },
     "execution_count": 83,
     "metadata": {},
     "output_type": "execute_result"
    }
   ],
   "source": [
    "a = (1,'charan',3,['sai',34])\n",
    "print(a[3][0])\n",
    "#a[0] = 13\n",
    "# Immutable, please read, try and tell me what do you understand\n",
    "#a[3]=1\n",
    "#a[1]='sao'\n",
    "print (a)\n",
    "print (id(a))\n",
    "a = a + (10,)\n",
    "print (a)\n",
    "id(a)"
   ]
  },
  {
   "cell_type": "markdown",
   "metadata": {},
   "source": [
    "**Conditional Statements**\n",
    "\n",
    "**If-statement**\n",
    "\n",
    "The <b>if</b> statement is used to check a condition: if the condition is true, we run a block of statements (called the if-block), else we process another block of statements (called the else-block). The <b>else clause is optional</b>."
   ]
  },
  {
   "cell_type": "code",
   "execution_count": null,
   "metadata": {},
   "outputs": [],
   "source": []
  },
  {
   "cell_type": "code",
   "execution_count": 85,
   "metadata": {},
   "outputs": [
    {
     "name": "stdout",
     "output_type": "stream",
     "text": [
      "elif\n",
      "sai\n"
     ]
    }
   ],
   "source": [
    "a = 20\n",
    "if a >= 22:\n",
    "    print (\"Sai\")\n",
    "    print (\"Python\")\n",
    "elif a != 21:\n",
    "    \n",
    "   print(\"elif\")\n",
    "else:\n",
    "   print(\"else\")\n",
    "print (\"sai\")"
   ]
  },
  {
   "cell_type": "code",
   "execution_count": 86,
   "metadata": {},
   "outputs": [
    {
     "name": "stdout",
     "output_type": "stream",
     "text": [
      "Did not find Vijay\n"
     ]
    }
   ],
   "source": [
    "#Testing for an element in list\n",
    "list_ = ['Ajay','Ramesh']\n",
    "if 'Vijay' in list_:\n",
    "    print ('Found Vijay')\n",
    "else:\n",
    "    print ('Did not find Vijay')\n"
   ]
  },
  {
   "cell_type": "markdown",
   "metadata": {},
   "source": [
    "**While-statement**\n",
    "\n",
    "The while statement allows you to <b>repeatedly execute</b> a block of statements as long as a condition is true. A while statement is an example of what is called a looping statement. A while statement can have an optional else clause."
   ]
  },
  {
   "cell_type": "code",
   "execution_count": 87,
   "metadata": {},
   "outputs": [
    {
     "name": "stdout",
     "output_type": "stream",
     "text": [
      "The count is: 0\n",
      "The count at the end of the loop 1\n",
      "The count is: 1\n",
      "The count at the end of the loop 2\n",
      "The count is: 2\n",
      "The count at the end of the loop 3\n",
      "The count is: 3\n",
      "The count at the end of the loop 4\n",
      "The count is: 4\n",
      "The count at the end of the loop 5\n",
      "The count is: 5\n",
      "The count at the end of the loop 6\n",
      "The count is: 6\n",
      "The count at the end of the loop 7\n",
      "The count is: 7\n",
      "The count at the end of the loop 8\n",
      "The count is: 8\n",
      "The count at the end of the loop 9\n",
      "End of while loop!\n",
      "9\n"
     ]
    }
   ],
   "source": [
    "count = 0\n",
    "while (count < 9):\n",
    "   print ('The count is:', count)\n",
    "   count = count + 2\n",
    "   print ('The count at the end of the loop', count)\n",
    "print (\"End of while loop!\")\n",
    "print (count)"
   ]
  },
  {
   "cell_type": "markdown",
   "metadata": {},
   "source": [
    "**For-statement**\n",
    "\n",
    "The for..in statement is another looping statement which iterates over a sequence of objects i.e. go through each item in a sequence. A sequence is just an ordered collection of items."
   ]
  },
  {
   "cell_type": "code",
   "execution_count": null,
   "metadata": {},
   "outputs": [],
   "source": [
    "for (i=0;i<9;i++)"
   ]
  },
  {
   "cell_type": "code",
   "execution_count": null,
   "metadata": {},
   "outputs": [],
   "source": [
    "range(0,9,2)"
   ]
  },
  {
   "cell_type": "code",
   "execution_count": 90,
   "metadata": {
    "scrolled": true
   },
   "outputs": [
    {
     "name": "stdout",
     "output_type": "stream",
     "text": [
      "0\n",
      "1\n",
      "2\n",
      "3\n",
      "4\n",
      "5\n",
      "6\n",
      "7\n",
      "8\n"
     ]
    }
   ],
   "source": [
    "for i in range(0,9):\n",
    "    print (i)"
   ]
  },
  {
   "cell_type": "code",
   "execution_count": 94,
   "metadata": {},
   "outputs": [
    {
     "name": "stdout",
     "output_type": "stream",
     "text": [
      "0\n",
      "2\n",
      "4\n",
      "6\n",
      "8\n",
      "The for loop is over and i value is 8\n"
     ]
    }
   ],
   "source": [
    "\n",
    "for i in range(0,9,2):\n",
    "    print (i)\n",
    "\n",
    "print (\"The for loop is over and i value is %d\" %(i))"
   ]
  },
  {
   "cell_type": "code",
   "execution_count": 93,
   "metadata": {},
   "outputs": [
    {
     "name": "stdout",
     "output_type": "stream",
     "text": [
      "2\n",
      "3\n",
      "5\n",
      "10\n"
     ]
    }
   ],
   "source": [
    "# Traversing a list\n",
    "# Guess What is the output\n",
    "numbers = [2, 3, 5]\n",
    "sum = 0\n",
    "\n",
    "for i in numbers:\n",
    "        print (i)\n",
    "        sum = sum + i\n",
    "print (sum)"
   ]
  },
  {
   "cell_type": "code",
   "execution_count": 133,
   "metadata": {},
   "outputs": [
    {
     "name": "stdout",
     "output_type": "stream",
     "text": [
      "[3, 9, 15, 21, 27]\n"
     ]
    }
   ],
   "source": [
    "numbers = [2, 3, 5]\n",
    "x = 2 \n",
    "getsum = [ i*3 for i in range(1,10,x) ]\n",
    "print (getsum)\n",
    "j='Sai'\n",
    "j."
   ]
  },
  {
   "cell_type": "code",
   "execution_count": 132,
   "metadata": {},
   "outputs": [
    {
     "name": "stdout",
     "output_type": "stream",
     "text": [
      "{1, 2}\n"
     ]
    },
    {
     "ename": "TypeError",
     "evalue": "'set' object does not support indexing",
     "output_type": "error",
     "traceback": [
      "\u001b[1;31m---------------------------------------------------------------------------\u001b[0m",
      "\u001b[1;31mTypeError\u001b[0m                                 Traceback (most recent call last)",
      "\u001b[1;32m<ipython-input-132-247dcee1c1d8>\u001b[0m in \u001b[0;36m<module>\u001b[1;34m()\u001b[0m\n\u001b[0;32m      2\u001b[0m \u001b[0mgetnum\u001b[0m \u001b[1;33m=\u001b[0m \u001b[1;33m{\u001b[0m\u001b[0mi\u001b[0m\u001b[1;33m-\u001b[0m\u001b[1;36m3\u001b[0m \u001b[1;32mfor\u001b[0m \u001b[0mi\u001b[0m \u001b[1;32min\u001b[0m \u001b[0mnumbers\u001b[0m \u001b[1;32mif\u001b[0m \u001b[0mi\u001b[0m\u001b[1;33m<\u001b[0m\u001b[1;36m6\u001b[0m\u001b[1;33m}\u001b[0m\u001b[1;33m\u001b[0m\u001b[0m\n\u001b[0;32m      3\u001b[0m \u001b[0mprint\u001b[0m \u001b[1;33m(\u001b[0m\u001b[0mgetnum\u001b[0m\u001b[1;33m)\u001b[0m\u001b[1;33m\u001b[0m\u001b[0m\n\u001b[1;32m----> 4\u001b[1;33m \u001b[0mprint\u001b[0m \u001b[1;33m(\u001b[0m\u001b[0mgetnum\u001b[0m\u001b[1;33m[\u001b[0m\u001b[1;36m0\u001b[0m\u001b[1;33m]\u001b[0m\u001b[1;33m)\u001b[0m\u001b[1;33m\u001b[0m\u001b[0m\n\u001b[0m",
      "\u001b[1;31mTypeError\u001b[0m: 'set' object does not support indexing"
     ]
    }
   ],
   "source": [
    "numbers = (4, 5, 7)\n",
    "getnum = {i-3 for i in numbers if i<6}\n",
    "print (getnum)\n",
    "print (getnum[0])"
   ]
  },
  {
   "cell_type": "markdown",
   "metadata": {},
   "source": [
    "**Break statement**\n",
    "\n",
    "The break statement is used to break out of a loop statement i.e. stop the execution of a looping statement, even if the loop condition has not become False or the sequence of items has not been completely iterated over.\n",
    "\n",
    "An important note is that if you break out of a for or while loop, any corresponding loop else block is not executed."
   ]
  },
  {
   "cell_type": "code",
   "execution_count": 100,
   "metadata": {},
   "outputs": [
    {
     "name": "stdout",
     "output_type": "stream",
     "text": [
      "1\n",
      "2\n",
      "3\n",
      "4\n",
      "5\n",
      "Done\n"
     ]
    }
   ],
   "source": [
    "for i in range(1,10):\n",
    "       if i == 6:\n",
    "           break\n",
    "       print (i)\n",
    "print('Done')"
   ]
  },
  {
   "cell_type": "markdown",
   "metadata": {},
   "source": [
    "**Functions**\n",
    "\n",
    "+ Functions are <b>reusable piece of software</b>.\n",
    "+ Block of statements that <b>accepts some arguments, perform some functionality, and provides the output</b>.\n",
    "+ Defined using <font color='red'><b>def</b></font> keyword\n",
    "+ Similar to functions in R.\n",
    "+ For example, implement code to perform two way clustering once and can be used again in the same program. \n",
    "+ We will look at functions for a number of features (Fama Mac Beth regression, two way clustering, industry code classification) in subsequent sessions. \n",
    "+ A function can take arguments.\n",
    "+ Arguments are specified within parentheses in function definition separated by commas.\n",
    "+ It is also possible to assign default values to parameters in order to make the program flexible and not behave in an unexpected manner.\n",
    "+ One of the most <b>powerful feature of functions is that it allows you to pass any number of arguments (*argv) and you do not have to worry about specifying the number when writing the function</b>. This feature becomes extremely important when dealing with lists or input data where you do not know number of data observations before hand.\n",
    "+ Scope of variables defined inside a function is <b>local</b> i.e. they cannot be used outside of a function.\n"
   ]
  },
  {
   "cell_type": "code",
   "execution_count": 127,
   "metadata": {},
   "outputs": [
    {
     "name": "stdout",
     "output_type": "stream",
     "text": [
      "Charan\n"
     ]
    },
    {
     "data": {
      "text/plain": [
       "'Sai'"
      ]
     },
     "execution_count": 127,
     "metadata": {},
     "output_type": "execute_result"
    }
   ],
   "source": [
    "def sayHello():\n",
    "    ''' This is a demonstration of \n",
    "    saying a big\n",
    "    and \n",
    "    long hello'''\n",
    "    print (\"Charan\")\n",
    "    va = \"Sai\"\n",
    "    return va\n",
    "    \n",
    "     # block belonging to the function\n",
    "# End of function #\n",
    "\n",
    "sayHello()\n",
    "#help(sayHello)\n"
   ]
  },
  {
   "cell_type": "code",
   "execution_count": 106,
   "metadata": {},
   "outputs": [
    {
     "data": {
      "text/plain": [
       "' This is a demonstration of \\n    saying a big\\n    and \\n    long hello'"
      ]
     },
     "execution_count": 106,
     "metadata": {},
     "output_type": "execute_result"
    }
   ],
   "source": [
    "b= ''' This is a demonstration of \n",
    "    saying a big\n",
    "    and \n",
    "    long hello'''\n",
    "b\n"
   ]
  },
  {
   "cell_type": "code",
   "execution_count": 129,
   "metadata": {},
   "outputs": [
    {
     "name": "stdout",
     "output_type": "stream",
     "text": [
      "15 is maximum\n"
     ]
    }
   ],
   "source": [
    "def printMax(a,b=10):\n",
    "   \n",
    "   if a > b:\n",
    "       print(a, 'is maximum')\n",
    "   elif a == b:\n",
    "       print(a, 'is equal to', b)\n",
    "   else:\n",
    "       print(b, 'is maximum')\n",
    "\n",
    "printMax(15,2) "
   ]
  },
  {
   "cell_type": "code",
   "execution_count": 130,
   "metadata": {},
   "outputs": [
    {
     "name": "stdout",
     "output_type": "stream",
     "text": [
      "x is 6\n",
      "Changed local x to 6\n",
      "x is 6\n",
      "Changed local x to 6\n",
      "6\n"
     ]
    }
   ],
   "source": [
    "z=5\n",
    "z=func()\n",
    "def func(y=6):\n",
    "     \n",
    "     print('x is', y)\n",
    "     print('Changed local x to', y)\n",
    "     return y\n",
    "z=func()    \n",
    "print (z)\n"
   ]
  },
  {
   "cell_type": "markdown",
   "metadata": {},
   "source": [
    "**Closing and Opening Files**\n",
    "\n",
    "+ Python, along with associated packages, supports a number of formats for file reading and writing. \n",
    "+ The file types supported are txt, csv, xls, xlsx, doc, docx, dat, output, sql (and some specialized formats such as R, .dta, sas7bdat)\n",
    "+ Here, we will cover some of the options and will look at the rest in session on pandas.\n",
    "+ In order to open a file, use open() method specifying file name and mode of opening (read, write, append, etc)\n",
    "+ Open returns a file handle \n",
    "+ handle = open(filename, mode)\n",
    "+ Once work is done, it is always better to close the file otherwise other programs might not be able to access the file.\n",
    "+ File closing is done using close() method"
   ]
  },
  {
   "cell_type": "code",
   "execution_count": null,
   "metadata": {},
   "outputs": [],
   "source": [
    "print(your_local_path)\n",
    "#f = open(your_local_path+'file1.txt', 'r')\n",
    "f = open(your_local_path+'capm_dem.txt', 'r')\n",
    "for line in f:   \n",
    "    print (line)                       \n",
    "f.close()"
   ]
  },
  {
   "cell_type": "markdown",
   "metadata": {},
   "source": [
    "**Modules**\n",
    "\n",
    "+ Functions can be used in the <b>same program</b>. \n",
    "+ If you want to use function (s) in <b>other programs, make use of modules</b>.\n",
    "+ Modules can be imported in other programs and functions contained in those modules can be used.\n",
    "+ Simplest way to create a module is to write a <b>.py file</b> with functions defined in that file.\n",
    "+ Other way is to <b>import</b> using byte-compiled .pyc files. "
   ]
  },
  {
   "cell_type": "code",
   "execution_count": null,
   "metadata": {
    "scrolled": true
   },
   "outputs": [],
   "source": [
    "from math import fabs\n",
    "x = -25\n",
    "print (fabs(x))\n",
    "#print(math.fabs(x))\n",
    "#help(modules)\n",
    "\n",
    "#print(factorial(x))"
   ]
  },
  {
   "cell_type": "code",
   "execution_count": null,
   "metadata": {},
   "outputs": [],
   "source": [
    "import sys\n",
    "sys.path.append(your_local_path)\n",
    "from saimodule import *\n",
    "print (sayhi())\n",
    "print (factorial(23))"
   ]
  },
  {
   "cell_type": "code",
   "execution_count": null,
   "metadata": {},
   "outputs": [],
   "source": [
    "import sys\n",
    "sys.path.append(\"your_local_path\")\n",
    "from testmodule import *\n",
    "print(sayhi())\n",
    "\n",
    "\n",
    "numb = 5\n",
    "num_factorial = factorial(int(numb))"
   ]
  },
  {
   "cell_type": "markdown",
   "metadata": {},
   "source": [
    "** Exception Handling**\n",
    "\n",
    "**Exceptions**\n",
    "\n",
    "+ An exception is an <b>event that interrupts the ordinary sequential processing</b> of a program.\n",
    "+ For example, what if you are going to read a file and the file does not exist? Or what if you accidentally deleted it when the program was running? Similarly, what if your program had some invalid statements? Such situations are handled using exceptions.\n",
    "\n",
    "**Handling Exceptions**\n",
    "\n",
    "+ We can handle exceptions using the <b>try..except</b> statement. \n",
    "+ We basically put our <b>usual statements within the try-block</b> and put all our <b>error handlers in the except-block</b>."
   ]
  },
  {
   "cell_type": "code",
   "execution_count": null,
   "metadata": {},
   "outputs": [],
   "source": [
    "def avg( numList ):\n",
    "    \"\"\"Raises TypeError or ZeroDivisionError exceptions.\"\"\"\n",
    "    sum = 0\n",
    "    for v in numList:\n",
    "        sum = sum + v\n",
    "    return float(sum)/len(numList)\n",
    "\n",
    "def avgReport(numList):\n",
    "     try:\n",
    "         m= avg(numList)\n",
    "         print (\"Average = \", m)\n",
    "     except TypeError as ex:\n",
    "         print (\"TypeError:\", ex)\n",
    "     except ZeroDivisionError as ex:\n",
    "         print (\"ZeroDivisionError:\", ex)\n",
    "                    \n",
    "list1 = [10,20,30,40]                      # If used this should run fine\n",
    "list2 = []                                 # If used this is empty, it would throw ZeroDivisionError\n",
    "list3 = [10,20,30,'abc']                   # If used this should throw TypeError \n",
    "\n",
    "\n",
    "print (avgReport(list2))\n",
    "avgReport(list1)\n",
    "print (avgReport(list3))"
   ]
  },
  {
   "cell_type": "markdown",
   "metadata": {},
   "source": [
    "**Try..Finally**\n",
    "\n",
    "+ Suppose you are reading a file in your program. How do you ensure that the file object is closed properly whether or not an exception was raised? This can be done using the finally block.\n",
    "+ This final step will be performed before the try block is finished, either normally or by any exception.\n",
    "+ <b>The finally clause is always executed</b>. \n",
    "+ This includes all three possible cases: <b>if the try block finishes with no exceptions; if an exception is raised and handled; and if an exception is raised but not handled</b>. \n",
    "+ This last case means that every nested try statement with a finally clause will have that finally clause executed.\n",
    "+ Use a finally clause to close files, release locks, close database connections, write final log messages, and other kinds of final operations. \n",
    "+ In the following example, we use the finally clause to write a final log message."
   ]
  },
  {
   "cell_type": "code",
   "execution_count": null,
   "metadata": {},
   "outputs": [],
   "source": [
    "def avgReport( numList ):\n",
    "    try:\n",
    "        print(\"Start avgReport\")\n",
    "        m= avg(numList)\n",
    "        print(\"Average = \" + str(m))\n",
    "    except TypeError as ex:\n",
    "        print(\"TypeError: \"+ str(ex))\n",
    "    except ZeroDivisionError as ex:\n",
    "        print(\"ZeroDivisionError: \" + str(ex))\n",
    "    finally:\n",
    "         print(\"Finished avgReport\")\n",
    "\n",
    "list1 = [10,20,30,40]\n",
    "list2 = []\n",
    "list3 = [10,20,30,'abc']\n",
    "\n",
    "avgReport(list2)"
   ]
  },
  {
   "cell_type": "markdown",
   "metadata": {},
   "source": [
    "**Some common built-in exceptions**\n",
    "\n",
    "exception KeyboardInterrupt\n",
    " This is raised when a user hits ctrl-C to send an interrupt signal to the Python interpreter. \n",
    "\n",
    "exception AttributeError\n",
    " Attribute not found in an object.\n",
    "\n",
    "exception EOFError\n",
    " Read beyond end of file.\n",
    "\n",
    "exception FloatingPointError\n",
    " Floating point operation failed.\n",
    "\n",
    "exception IOError\n",
    " I/O operation failed.\n",
    "\n",
    "exception IndexError\n",
    " Sequence index out of range.\n",
    "\n",
    "exception KeyError\n",
    " Mapping key not found.\n",
    "\n",
    "exception TypeError\n",
    " Inappropriate argument type.\n",
    "\n",
    "exception ValueError\n",
    " Inappropriate argument value (of correct type).\n",
    "\n",
    "exception ZeroDivisionError\n",
    " Second argument to a division or modulo operation was zero.\n",
    "\n",
    "exception MemoryError\n",
    " Out of memory.\n",
    "\n",
    "exception RuntimeError\n",
    " Unspecified run-time error.\n",
    "\n",
    "exception SystemError\n",
    " Internal error in the Python interpreter\n",
    "\n",
    "exception ImportError\n",
    " Import can’t find module, or can’t find name in module.\n",
    "\n",
    "exception IndentationError\n",
    " Improper indentation.\n",
    "\n",
    "exception NameError\n",
    " Name not found globally.\n",
    "\n",
    "exception SyntaxError\n",
    " Invalid syntax.\n",
    "\n",
    "exception UnboundLocalError\n",
    " Local name referenced but not bound to a value.\n"
   ]
  },
  {
   "cell_type": "markdown",
   "metadata": {},
   "source": [
    "# Capturing input from end-user"
   ]
  },
  {
   "cell_type": "code",
   "execution_count": null,
   "metadata": {},
   "outputs": [],
   "source": [
    "numb = input(\"Enter a non negative number: \")\n",
    "num_factorial = factorial(int(numb))"
   ]
  },
  {
   "cell_type": "code",
   "execution_count": null,
   "metadata": {},
   "outputs": [],
   "source": []
  }
 ],
 "metadata": {
  "anaconda-cloud": {},
  "kernelspec": {
   "display_name": "Python 3",
   "language": "python",
   "name": "python3"
  },
  "language_info": {
   "codemirror_mode": {
    "name": "ipython",
    "version": 3
   },
   "file_extension": ".py",
   "mimetype": "text/x-python",
   "name": "python",
   "nbconvert_exporter": "python",
   "pygments_lexer": "ipython3",
   "version": "3.6.5"
  }
 },
 "nbformat": 4,
 "nbformat_minor": 1
}
