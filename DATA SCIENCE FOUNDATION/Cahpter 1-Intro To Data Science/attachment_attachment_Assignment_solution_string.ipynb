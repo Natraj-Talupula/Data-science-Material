{
 "cells": [
  {
   "cell_type": "markdown",
   "metadata": {},
   "source": [
    "## Strings Assignment Solutions"
   ]
  },
  {
   "cell_type": "markdown",
   "metadata": {},
   "source": [
    "#### 1. I want to print the below string as it is. How do I do that?\n",
    "“Apples are better than \\n Oranges”"
   ]
  },
  {
   "cell_type": "code",
   "execution_count": 1,
   "metadata": {
    "collapsed": true
   },
   "outputs": [],
   "source": [
    "a=\"Apples are better than \\n Oranges\""
   ]
  },
  {
   "cell_type": "code",
   "execution_count": 2,
   "metadata": {
    "collapsed": false
   },
   "outputs": [
    {
     "name": "stdout",
     "output_type": "stream",
     "text": [
      "'Apples are better than \\n Oranges'\n"
     ]
    }
   ],
   "source": [
    "print(repr(a))"
   ]
  },
  {
   "cell_type": "markdown",
   "metadata": {},
   "source": [
    "#### 2. string_ex = “I love python because it is so easy to use it and also it is used by many other IT companies”\n",
    "I want you to split the above string on the separator “it”. How will you do it?"
   ]
  },
  {
   "cell_type": "code",
   "execution_count": 3,
   "metadata": {
    "collapsed": true
   },
   "outputs": [],
   "source": [
    "string_ex = \"I love python because it is so easy to use it and also it is used by many other IT companies\""
   ]
  },
  {
   "cell_type": "code",
   "execution_count": 4,
   "metadata": {
    "collapsed": false
   },
   "outputs": [
    {
     "data": {
      "text/plain": [
       "['I love python because ',\n",
       " ' is so easy to use ',\n",
       " ' and also ',\n",
       " ' is used by many other IT companies']"
      ]
     },
     "execution_count": 4,
     "metadata": {},
     "output_type": "execute_result"
    }
   ],
   "source": [
    "string_ex.split(\"it\")"
   ]
  },
  {
   "cell_type": "markdown",
   "metadata": {},
   "source": [
    "#### 3.str_ex = “I Love Pyton” How do you swap the cases of letters in the above input string?"
   ]
  },
  {
   "cell_type": "code",
   "execution_count": 5,
   "metadata": {
    "collapsed": false
   },
   "outputs": [
    {
     "name": "stdout",
     "output_type": "stream",
     "text": [
      "i lOVE pYTON\n"
     ]
    }
   ],
   "source": [
    "str_ex = \"I Love Pyton\"\n",
    "print(str_ex.swapcase())"
   ]
  },
  {
   "cell_type": "markdown",
   "metadata": {},
   "source": [
    "#### 4. str_input = “Hey how are you doing. I am doing great”\n",
    "Get the first 10 characters and the last 10 characters of the above the string and join them\n",
    "with a “_” "
   ]
  },
  {
   "cell_type": "code",
   "execution_count": 7,
   "metadata": {
    "collapsed": true
   },
   "outputs": [],
   "source": [
    "str_input=\"Hey how are you doing. I am doing great\""
   ]
  },
  {
   "cell_type": "code",
   "execution_count": 8,
   "metadata": {
    "collapsed": false
   },
   "outputs": [
    {
     "name": "stdout",
     "output_type": "stream",
     "text": [
      "Hey how ar_oing great\n"
     ]
    }
   ],
   "source": [
    "print(str_input[:10]+\"_\"+str_input[-10:])"
   ]
  },
  {
   "cell_type": "markdown",
   "metadata": {},
   "source": [
    "#### 5. string1 = “Hotelspace” string2=”Facilities”\n",
    "I want you to swap the first three letters and last three letters of both the strings and print\n",
    "the output by separating them with a “@”"
   ]
  },
  {
   "cell_type": "code",
   "execution_count": 9,
   "metadata": {
    "collapsed": false
   },
   "outputs": [
    {
     "data": {
      "text/plain": [
       "'aceelspHot@iesilitFac'"
      ]
     },
     "execution_count": 9,
     "metadata": {},
     "output_type": "execute_result"
    }
   ],
   "source": [
    "string1=\"Hotelspace\"\n",
    "string2=\"Facilities\"\n",
    "m=string1[-3:]+string1[3:-3]+string1[:3]\n",
    "n=string2[-3:]+string2[3:-3]+string2[:3]\n",
    "m+\"@\"+n"
   ]
  },
  {
   "cell_type": "markdown",
   "metadata": {},
   "source": [
    "#### 6. strr = 'Hello World'    How do you extract the string ‘Worl’ from the above string using negative index?"
   ]
  },
  {
   "cell_type": "code",
   "execution_count": 10,
   "metadata": {
    "collapsed": false
   },
   "outputs": [
    {
     "data": {
      "text/plain": [
       "'Worl'"
      ]
     },
     "execution_count": 10,
     "metadata": {},
     "output_type": "execute_result"
    }
   ],
   "source": [
    "strr='Hello World'\n",
    "strr[-5:-1]"
   ]
  },
  {
   "cell_type": "markdown",
   "metadata": {},
   "source": [
    "#### 7. Reverse the string “$ 5+6 * 3-45 $”. The output should be “$ 45-3 * 6+5 $”. "
   ]
  },
  {
   "cell_type": "code",
   "execution_count": 11,
   "metadata": {
    "collapsed": false
   },
   "outputs": [
    {
     "data": {
      "text/plain": [
       "'45-3*6+5'"
      ]
     },
     "execution_count": 11,
     "metadata": {},
     "output_type": "execute_result"
    }
   ],
   "source": [
    "import re\n",
    "string1='5+6*3-45'\n",
    "list1=re.findall('[+-/*]|\\d+',string1)\n",
    "output_string=list1[::-1]\n",
    "''.join(output_string)\n",
    "\n"
   ]
  },
  {
   "cell_type": "markdown",
   "metadata": {},
   "source": [
    "#### 8. \n",
    "#### str_s = “India is a great country with a lot of heritage”\n",
    "#### str_x = “South Africa is a great country with a lot of freedom”\n",
    "I want you to remove the common words appearing in the above strings and display the left-\n",
    "over words as one single string."
   ]
  },
  {
   "cell_type": "code",
   "execution_count": 15,
   "metadata": {
    "collapsed": false
   },
   "outputs": [
    {
     "name": "stdout",
     "output_type": "stream",
     "text": [
      "India heritage South Africa freedom\n"
     ]
    }
   ],
   "source": [
    "str_s=\"India is a great country with a lot of heritage\"\n",
    "str_x=\"South Africa is a great country with a lot of freedom\"\n",
    "str1 = str_s.split()\n",
    "str2 = str_x.split()\n",
    "str3 = list(str1)\n",
    "\n",
    "for word in str1:\n",
    "    if word in str2:\n",
    "        str2.remove(word)\n",
    "        str3.remove(word)\n",
    "        \n",
    "print(\" \".join(str3 + str2))"
   ]
  },
  {
   "cell_type": "markdown",
   "metadata": {},
   "source": [
    "#### 9. variable1=”This is a test to check the unique characters in the string”\n",
    "I want you to identify all the unique characters in the above string and also mention the\n",
    "number of times these unique characters are repeated in the above string."
   ]
  },
  {
   "cell_type": "code",
   "execution_count": 16,
   "metadata": {
    "collapsed": true
   },
   "outputs": [],
   "source": [
    "from collections import Counter"
   ]
  },
  {
   "cell_type": "code",
   "execution_count": 17,
   "metadata": {
    "collapsed": false
   },
   "outputs": [
    {
     "data": {
      "text/plain": [
       "Counter({' ': 11,\n",
       "         'a': 3,\n",
       "         'c': 4,\n",
       "         'e': 6,\n",
       "         'g': 1,\n",
       "         'h': 5,\n",
       "         'i': 5,\n",
       "         'k': 1,\n",
       "         'n': 3,\n",
       "         'o': 1,\n",
       "         'q': 1,\n",
       "         'r': 3,\n",
       "         's': 5,\n",
       "         't': 8,\n",
       "         'u': 2})"
      ]
     },
     "execution_count": 17,
     "metadata": {},
     "output_type": "execute_result"
    }
   ],
   "source": [
    "variable1=\"This is a test to check the unique characters in the string\"\n",
    "Counter(variable1.lower())"
   ]
  },
  {
   "cell_type": "markdown",
   "metadata": {},
   "source": [
    "#### 10. var3 = “abcdefgh”\n",
    "I want you to transform the above string to “a2c4e8g10”"
   ]
  },
  {
   "cell_type": "code",
   "execution_count": 18,
   "metadata": {
    "collapsed": false
   },
   "outputs": [
    {
     "data": {
      "text/plain": [
       "'a2c4e8g10'"
      ]
     },
     "execution_count": 18,
     "metadata": {},
     "output_type": "execute_result"
    }
   ],
   "source": [
    "var3=\"abcdefgh\"\n",
    "list1=list(var3)\n",
    "list1[1]=str(2)\n",
    "list1[3]=str(4)\n",
    "list1[5]=str(8)\n",
    "list1[7]=str(10)\n",
    "''.join(list1)"
   ]
  }
 ],
 "metadata": {
  "anaconda-cloud": {},
  "kernelspec": {
   "display_name": "Python [conda root]",
   "language": "python",
   "name": "conda-root-py"
  },
  "language_info": {
   "codemirror_mode": {
    "name": "ipython",
    "version": 3
   },
   "file_extension": ".py",
   "mimetype": "text/x-python",
   "name": "python",
   "nbconvert_exporter": "python",
   "pygments_lexer": "ipython3",
   "version": "3.5.5"
  }
 },
 "nbformat": 4,
 "nbformat_minor": 2
}
