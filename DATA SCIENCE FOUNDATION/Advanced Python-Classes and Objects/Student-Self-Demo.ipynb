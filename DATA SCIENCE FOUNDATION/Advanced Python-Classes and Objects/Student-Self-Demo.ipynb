{
 "cells": [
  {
   "cell_type": "code",
   "execution_count": 2,
   "metadata": {},
   "outputs": [
    {
     "name": "stdout",
     "output_type": "stream",
     "text": [
      "name=Jone, age=23, twitter_url=http://twitter.com/jone, google_plus=None\n"
     ]
    }
   ],
   "source": [
    "class Student(object):\n",
    "    def __init__(self, name, age, twitter_url=None, google_plus=None, youtube_channel=None):\n",
    "        self.name = name\n",
    "        self.age = age\n",
    "        self.twitter_url = twitter_url\n",
    "        self.google_plus = google_plus\n",
    " \n",
    "    def __str__(self):\n",
    "        # Override to print a readable string presentation of your object\n",
    "        # below is a dynamic way of doing this without explicity constructing the string manually\n",
    "        return ', '.join(['{key}={value}'.format(key=key, value=self.__dict__.get(key)) for key in self.__dict__])\n",
    " \n",
    "student = Student(name='Jone', age=23, twitter_url='http://twitter.com/jone')\n",
    "print (student)"
   ]
  },
  {
   "cell_type": "code",
   "execution_count": null,
   "metadata": {},
   "outputs": [],
   "source": []
  }
 ],
 "metadata": {
  "kernelspec": {
   "display_name": "Python 3",
   "language": "python",
   "name": "python3"
  },
  "language_info": {
   "codemirror_mode": {
    "name": "ipython",
    "version": 3
   },
   "file_extension": ".py",
   "mimetype": "text/x-python",
   "name": "python",
   "nbconvert_exporter": "python",
   "pygments_lexer": "ipython3",
   "version": "3.6.5"
  }
 },
 "nbformat": 4,
 "nbformat_minor": 2
}
