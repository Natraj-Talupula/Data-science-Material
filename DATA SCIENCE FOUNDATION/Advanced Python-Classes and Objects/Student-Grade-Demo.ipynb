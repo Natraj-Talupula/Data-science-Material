{
 "cells": [
  {
   "cell_type": "code",
   "execution_count": 43,
   "metadata": {},
   "outputs": [],
   "source": [
    "class Student:\n",
    "    def __init__(self, name='Sai', hours=1, qpoints=123):  \n",
    "        self.name = name\n",
    "        self.hours = float(hours)\n",
    "        self.qpoints = float(qpoints)\n",
    "    def getName(self):\n",
    "        return self.name\n",
    "    def getHours(self):  \n",
    "        return self.hours\n",
    "    def getQPoints(self):  \n",
    "        return self.qpoints\n",
    "    def gpa(self):\n",
    "        return self.qpoints/self.hours\n",
    "    def __str__(self):\n",
    "        return \"Name is:\"+ self.name\n",
    "    def makeStudent(infoStr):\n",
    "        name, hours, qpoints = string.split(infoStr,\"\\t\")  \n",
    "        return Student(name, hours, qpoints)\n",
    "    def main(self):\n",
    "        return \"Great\"\n",
    "\n",
    "    "
   ]
  },
  {
   "cell_type": "code",
   "execution_count": 44,
   "metadata": {},
   "outputs": [
    {
     "name": "stdout",
     "output_type": "stream",
     "text": [
      "Name is:Adams, Henry\n"
     ]
    }
   ],
   "source": [
    "aStudent = Student(\"Adams, Henry\", 127, 228)\n",
    "print (aStudent)"
   ]
  },
  {
   "cell_type": "code",
   "execution_count": 47,
   "metadata": {},
   "outputs": [],
   "source": [
    "bStudent = Student(\"Brittney\",232,123)"
   ]
  },
  {
   "cell_type": "code",
   "execution_count": 48,
   "metadata": {},
   "outputs": [
    {
     "name": "stdout",
     "output_type": "stream",
     "text": [
      "Brittney\n"
     ]
    }
   ],
   "source": [
    "print (bStudent.name)"
   ]
  },
  {
   "cell_type": "code",
   "execution_count": 42,
   "metadata": {},
   "outputs": [
    {
     "name": "stdout",
     "output_type": "stream",
     "text": [
      "Great\n"
     ]
    }
   ],
   "source": [
    "print (aStudent.main())"
   ]
  },
  {
   "cell_type": "code",
   "execution_count": 32,
   "metadata": {},
   "outputs": [
    {
     "data": {
      "text/plain": [
       "1.795275590551181"
      ]
     },
     "execution_count": 32,
     "metadata": {},
     "output_type": "execute_result"
    }
   ],
   "source": [
    "aStudent.gpa()"
   ]
  },
  {
   "cell_type": "code",
   "execution_count": 33,
   "metadata": {},
   "outputs": [
    {
     "name": "stdout",
     "output_type": "stream",
     "text": [
      "Help on built-in function random:\n",
      "\n",
      "random(...) method of random.Random instance\n",
      "    random() -> x in the interval [0, 1).\n",
      "\n"
     ]
    }
   ],
   "source": [
    "import random\n",
    "help(random.random)"
   ]
  },
  {
   "cell_type": "code",
   "execution_count": 34,
   "metadata": {},
   "outputs": [],
   "source": [
    "def func(x):\n",
    "    ''' This is an interesting function'''"
   ]
  },
  {
   "cell_type": "code",
   "execution_count": 24,
   "metadata": {},
   "outputs": [
    {
     "name": "stdout",
     "output_type": "stream",
     "text": [
      "Help on function func in module __main__:\n",
      "\n",
      "func(x)\n",
      "    This is an interesting function\n",
      "\n"
     ]
    }
   ],
   "source": [
    "help(func)"
   ]
  },
  {
   "cell_type": "code",
   "execution_count": 28,
   "metadata": {},
   "outputs": [
    {
     "name": "stdout",
     "output_type": "stream",
     "text": [
      "random() -> x in the interval [0, 1).\n"
     ]
    }
   ],
   "source": [
    "print (random.random.__doc__)"
   ]
  },
  {
   "cell_type": "code",
   "execution_count": null,
   "metadata": {},
   "outputs": [],
   "source": []
  }
 ],
 "metadata": {
  "kernelspec": {
   "display_name": "Python 3",
   "language": "python",
   "name": "python3"
  },
  "language_info": {
   "codemirror_mode": {
    "name": "ipython",
    "version": 3
   },
   "file_extension": ".py",
   "mimetype": "text/x-python",
   "name": "python",
   "nbconvert_exporter": "python",
   "pygments_lexer": "ipython3",
   "version": "3.6.5"
  }
 },
 "nbformat": 4,
 "nbformat_minor": 2
}
